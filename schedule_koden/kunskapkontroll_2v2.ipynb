{
 "cells": [
  {
   "cell_type": "code",
   "execution_count": 30,
   "metadata": {},
   "outputs": [],
   "source": [
    "## Importerar vi 2 bibliotek\n",
    "import pandas as pd  ## Läsa och manipulera ex CSV fil\n",
    "import sqlite3 ## Jobba med SQL Databaser"
   ]
  },
  {
   "cell_type": "code",
   "execution_count": 31,
   "metadata": {},
   "outputs": [],
   "source": [
    "# Sökvägar till CSV-fil och databas\n",
    "csv_file = r'C:\\Users\\Nices\\Documents\\ec_sthlm\\Fördjup\\K2\\batterier.csv'\n",
    "db_file = r'C:\\Users\\Nices\\Documents\\ec_sthlm\\Fördjup\\K2\\batteri.db'"
   ]
  },
  {
   "cell_type": "code",
   "execution_count": 32,
   "metadata": {},
   "outputs": [],
   "source": [
    "# Läs data från CSV-fil\n",
    "def read_data(file_path):  ##File... filens sökväg\n",
    "    df = pd.read_csv(file_path)  ## Data från csv filen retunerar som Pandas df\n",
    "    return df\n",
    "\n",
    "# Läser in och lagrar datan i df\n",
    "df = read_data(file_path)"
   ]
  },
  {
   "cell_type": "code",
   "execution_count": 33,
   "metadata": {},
   "outputs": [
    {
     "name": "stdout",
     "output_type": "stream",
     "text": [
      "Innehållet i CSV-filen:\n",
      "   typ av batteri    år  Såld mängd, ton Insamlad mängd, ton\n",
      "0             1.1  2011           3371.6              2424.8\n",
      "1             1.1  2015           3424.3              2347.6\n",
      "2             1.1  2019           4351.7                  ..\n",
      "3             1.1  2010             48.9                84.6\n",
      "4             1.2  2014             57.1                48.2\n"
     ]
    }
   ],
   "source": [
    "# Visar innehåll\n",
    "print(\"Innehållet i CSV-filen:\")\n",
    "print(df.head())  # De första 5 raderna"
   ]
  },
  {
   "cell_type": "code",
   "execution_count": 34,
   "metadata": {},
   "outputs": [],
   "source": [
    "# skapa SQL tabellen med datan\n",
    "def update_sql_table(df, db_path):\n",
    "    conn = sqlite3.connect(db_path)  # Anslutar sig till SQLite-databasen\n",
    "    df.to_sql('batteridata', conn, if_exists='replace', index=False)  # Uppdatera eller skapar tabellen 'batteridata'\n",
    "    conn.close()"
   ]
  },
  {
   "cell_type": "code",
   "execution_count": 35,
   "metadata": {},
   "outputs": [
    {
     "name": "stdout",
     "output_type": "stream",
     "text": [
      "Data från CSV-fil har uppdaterats i SQL-tabellen.\n"
     ]
    }
   ],
   "source": [
    "# Uppdatera SQL tabellen med CSV datan och sparar i databasen\n",
    "update_sql_table(df, db_file)\n",
    "\n",
    "print(\"Data från CSV-fil har uppdaterats i SQL-tabellen.\")"
   ]
  }
 ],
 "metadata": {
  "kernelspec": {
   "display_name": ".venv",
   "language": "python",
   "name": "python3"
  },
  "language_info": {
   "codemirror_mode": {
    "name": "ipython",
    "version": 3
   },
   "file_extension": ".py",
   "mimetype": "text/x-python",
   "name": "python",
   "nbconvert_exporter": "python",
   "pygments_lexer": "ipython3",
   "version": "3.12.3"
  }
 },
 "nbformat": 4,
 "nbformat_minor": 2
}
