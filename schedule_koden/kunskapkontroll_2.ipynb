{
 "cells": [
  {
   "cell_type": "code",
   "execution_count": 18,
   "metadata": {},
   "outputs": [],
   "source": [
    "import pandas as pd\n",
    "import sqlite3"
   ]
  },
  {
   "cell_type": "code",
   "execution_count": 19,
   "metadata": {},
   "outputs": [
    {
     "name": "stdout",
     "output_type": "stream",
     "text": [
      "   typ av batteri    år  Såld mängd, ton Insamlad mängd, ton\n",
      "0             1.1  2011           3371.6              2424.8\n",
      "1             1.1  2015           3424.3              2347.6\n",
      "2             1.1  2019           4351.7                  ..\n",
      "3             1.1  2010             48.9                84.6\n",
      "4             1.2  2014             57.1                48.2\n"
     ]
    }
   ],
   "source": [
    "# Läs in CSV-filen\n",
    "file_path = r'C:\\Users\\Nices\\Documents\\ec_sthlm\\Fördjup\\K2\\batterier.csv'\n",
    "data = pd.read_csv(file_path)\n",
    "\n",
    "# Visa de första raderna för att kontrollera\n",
    "print(data.head())"
   ]
  },
  {
   "cell_type": "code",
   "execution_count": 20,
   "metadata": {},
   "outputs": [],
   "source": [
    "# Anslut till SQLite-databasen (eller skapa den om den inte finns)\n",
    "conn = sqlite3.connect('batterier.db')"
   ]
  },
  {
   "cell_type": "code",
   "execution_count": 21,
   "metadata": {},
   "outputs": [
    {
     "data": {
      "text/plain": [
       "<sqlite3.Cursor at 0x1db3f58b140>"
      ]
     },
     "execution_count": 21,
     "metadata": {},
     "output_type": "execute_result"
    }
   ],
   "source": [
    "# Skapa en cursor för att köra SQL-kommandon\n",
    "cursor = conn.cursor()\n",
    "\n",
    "# Skapa en SQL-tabell om den inte redan finns, anpassad efter CSV-kolumnerna\n",
    "cursor.execute('''\n",
    "    CREATE TABLE IF NOT EXISTS batteridata (\n",
    "        id INTEGER PRIMARY KEY AUTOINCREMENT,\n",
    "        batteri_typ TEXT,\n",
    "        ar INTEGER,\n",
    "        sald_mangd REAL,\n",
    "        insamlad_mangd REAL\n",
    "    )\n",
    "''')"
   ]
  },
  {
   "cell_type": "code",
   "execution_count": 22,
   "metadata": {},
   "outputs": [],
   "source": [
    "# Lägg till data från CSV-filen till SQL-tabellen\n",
    "for index, row in data.iterrows():\n",
    "    cursor.execute('''\n",
    "        INSERT INTO batteridata (batteri_typ, ar, sald_mangd, insamlad_mangd) \n",
    "        VALUES (?, ?, ?, ?)''',\n",
    "        (row['typ av batteri'], row['år'], row['Såld mängd, ton'], row['Insamlad mängd, ton'])\n",
    "    )"
   ]
  },
  {
   "cell_type": "code",
   "execution_count": 23,
   "metadata": {},
   "outputs": [],
   "source": [
    "# Spara ändringarna\n",
    "conn.commit()\n",
    "\n",
    "# Stäng anslutningen\n",
    "conn.close()"
   ]
  }
 ],
 "metadata": {
  "kernelspec": {
   "display_name": "Python 3",
   "language": "python",
   "name": "python3"
  },
  "language_info": {
   "codemirror_mode": {
    "name": "ipython",
    "version": 3
   },
   "file_extension": ".py",
   "mimetype": "text/x-python",
   "name": "python",
   "nbconvert_exporter": "python",
   "pygments_lexer": "ipython3",
   "version": "3.12.3"
  }
 },
 "nbformat": 4,
 "nbformat_minor": 2
}
